{
 "cells": [
  {
   "cell_type": "markdown",
   "metadata": {
    "id": "Ic7q1SG_VEGz"
   },
   "source": [
    "# FTN Q&A Chatbot"
   ]
  },
  {
   "cell_type": "markdown",
   "metadata": {},
   "source": [
    "This code is made for using in Google Colab. For additional usage on locel machine it need to be slightly modified."
   ]
  },
  {
   "cell_type": "markdown",
   "metadata": {
    "id": "qG1prAdb4NVO"
   },
   "source": [
    "## Basic libraries importing"
   ]
  },
  {
   "cell_type": "code",
   "execution_count": 1,
   "metadata": {
    "executionInfo": {
     "elapsed": 917,
     "status": "ok",
     "timestamp": 1708458729981,
     "user": {
      "displayName": "Igor Mandarić",
      "userId": "09696522975021983376"
     },
     "user_tz": -60
    },
    "id": "v-W5X1gw4Ryw"
   },
   "outputs": [],
   "source": [
    "import os\n",
    "from google.colab import drive\n",
    "from IPython.display import HTML, display\n",
    "\n",
    "import pandas as pd\n",
    "import numpy as np\n",
    "import matplotlib.pyplot as plt"
   ]
  },
  {
   "cell_type": "markdown",
   "metadata": {
    "id": "gG6mVT2hVxA_"
   },
   "source": [
    "## Constants"
   ]
  },
  {
   "cell_type": "code",
   "execution_count": 2,
   "metadata": {
    "executionInfo": {
     "elapsed": 12,
     "status": "ok",
     "timestamp": 1708458730402,
     "user": {
      "displayName": "Igor Mandarić",
      "userId": "09696522975021983376"
     },
     "user_tz": -60
    },
    "id": "5FjrnnUtV0d2"
   },
   "outputs": [],
   "source": [
    "# Paths\n",
    "PROJECT_PATH = \"project path\"\n",
    "DATA_PATH = \"data path\"\n",
    "QA_BASE_PATH = \"questions_answers_data.csv path\"\n",
    "DATABASE_PATH = \"database path\"\n",
    "\n",
    "# Context Embedding and base creation\n",
    "BASE_CREATION_FLAG = 1\n",
    "EMBEDDING_MODEL = \"sentence-transformers/all-mpnet-base-v2\"\n",
    "DEVICE = \"cpu\"\n",
    "CHUNK_SIZE = 1000\n",
    "CHUNK_OVERLAP = 200\n",
    "\n",
    "#Chatbot parameters\n",
    "CHATBOT_FLAG = 1\n",
    "REPLICATE_API_TOKEN = \"your replicate token\"\n",
    "# CHATBOT_MODEL = \"meta/llama-2-13b-chat:f4e2de70d66816a838a89eeeb621910adffb0dd0baba3976c96980970978018d\"\n",
    "CHATBOT_MODEL = \"meta/llama-2-70b-chat:2d19859030ff705a87c746f7e96eea03aefb71f166725aee39692f1476566d48\"\n",
    "TEMPERATURE = 0.01\n",
    "TOP_PERCENT = 0.5\n",
    "MAX_NEW_TOKENS = 1000\n",
    "\n",
    "# Initial chat history questions and answers\n",
    "CHAT_HISTORY = [\n",
    "    (\"U kom gradu se nalazi Fakultet tehničkih nauka?\", \"U Novom Sadu.\"),\n",
    "    (\"Kad je osnovan?\", \"1960.\"),\n",
    "    (\"Koja je web stranica fakulteta?\", \"www.ftn.uns.ac.rs\")\n",
    "]\n",
    "\n",
    "# Other\n",
    "LINE = 150*'-'\n",
    "DOUBLE_LINE = 150*'='"
   ]
  },
  {
   "cell_type": "markdown",
   "metadata": {
    "id": "6Ljkvd_rVcjR"
   },
   "source": [
    "## Loading drive"
   ]
  },
  {
   "cell_type": "code",
   "execution_count": 3,
   "metadata": {
    "colab": {
     "base_uri": "https://localhost:8080/"
    },
    "executionInfo": {
     "elapsed": 3603,
     "status": "ok",
     "timestamp": 1708458733994,
     "user": {
      "displayName": "Igor Mandarić",
      "userId": "09696522975021983376"
     },
     "user_tz": -60
    },
    "id": "ehbKRYmXU99y",
    "outputId": "b8bfc71b-1b18-4efa-d830-469ad02630a3"
   },
   "outputs": [
    {
     "name": "stdout",
     "output_type": "stream",
     "text": [
      "======================================================================================================================================================\n",
      "Drive already mounted at /content/drive; to attempt to forcibly remount, call drive.mount(\"/content/drive\", force_remount=True).\n",
      "------------------------------------------------------------------------------------------------------------------------------------------------------\n",
      "Project path:\n",
      "/content/drive/MyDrive/FTN_Chatbot\n",
      "======================================================================================================================================================\n"
     ]
    }
   ],
   "source": [
    "print(DOUBLE_LINE)\n",
    "\n",
    "drive.mount(\"/content/drive\")\n",
    "\n",
    "print(LINE)\n",
    "\n",
    "print(\"Project path:\")\n",
    "%cd {PROJECT_PATH}\n",
    "\n",
    "print(DOUBLE_LINE)"
   ]
  },
  {
   "cell_type": "markdown",
   "metadata": {
    "id": "aGb58g2Kuc1J"
   },
   "source": [
    "## Loading aditional libraries"
   ]
  },
  {
   "cell_type": "markdown",
   "metadata": {
    "id": "wKQq-9SO1pkZ"
   },
   "source": [
    "### Aditional libraries installation"
   ]
  },
  {
   "cell_type": "code",
   "execution_count": 4,
   "metadata": {
    "colab": {
     "base_uri": "https://localhost:8080/"
    },
    "executionInfo": {
     "elapsed": 18763,
     "status": "ok",
     "timestamp": 1708458752747,
     "user": {
      "displayName": "Igor Mandarić",
      "userId": "09696522975021983376"
     },
     "user_tz": -60
    },
    "id": "X3LvEO2UqY5h",
    "outputId": "f9cd3cfa-6c19-437a-be12-11c760ba25fe"
   },
   "outputs": [
    {
     "name": "stdout",
     "output_type": "stream",
     "text": [
      "Requirement already satisfied: replicate in /usr/local/lib/python3.10/dist-packages (from -r requirements.txt (line 1)) (0.24.0)\n",
      "Requirement already satisfied: pypdf in /usr/local/lib/python3.10/dist-packages (from -r requirements.txt (line 2)) (4.0.2)\n",
      "Requirement already satisfied: PyPDF2 in /usr/local/lib/python3.10/dist-packages (from -r requirements.txt (line 3)) (3.0.1)\n",
      "Requirement already satisfied: pikepdf in /usr/local/lib/python3.10/dist-packages (from -r requirements.txt (line 4)) (8.13.0)\n",
      "Requirement already satisfied: transliterate in /usr/local/lib/python3.10/dist-packages (from -r requirements.txt (line 5)) (1.10.2)\n",
      "Requirement already satisfied: langchain in /usr/local/lib/python3.10/dist-packages (from -r requirements.txt (line 6)) (0.1.8)\n",
      "Requirement already satisfied: mlflow in /usr/local/lib/python3.10/dist-packages (from -r requirements.txt (line 7)) (2.10.2)\n",
      "Requirement already satisfied: sentence-transformers in /usr/local/lib/python3.10/dist-packages (from -r requirements.txt (line 8)) (2.3.1)\n",
      "Requirement already satisfied: faiss-cpu in /usr/local/lib/python3.10/dist-packages (from -r requirements.txt (line 9)) (1.7.4)\n",
      "Requirement already satisfied: text-generation in /usr/local/lib/python3.10/dist-packages (from -r requirements.txt (line 10)) (0.6.1)\n",
      "Requirement already satisfied: httpx<1,>=0.21.0 in /usr/local/lib/python3.10/dist-packages (from replicate->-r requirements.txt (line 1)) (0.26.0)\n",
      "Requirement already satisfied: packaging in /usr/local/lib/python3.10/dist-packages (from replicate->-r requirements.txt (line 1)) (23.2)\n",
      "Requirement already satisfied: pydantic>1 in /usr/local/lib/python3.10/dist-packages (from replicate->-r requirements.txt (line 1)) (2.6.1)\n",
      "Requirement already satisfied: typing-extensions>=4.5.0 in /usr/local/lib/python3.10/dist-packages (from replicate->-r requirements.txt (line 1)) (4.9.0)\n",
      "Requirement already satisfied: Pillow>=10.0.1 in /usr/local/lib/python3.10/dist-packages (from pikepdf->-r requirements.txt (line 4)) (10.2.0)\n",
      "Requirement already satisfied: Deprecated in /usr/local/lib/python3.10/dist-packages (from pikepdf->-r requirements.txt (line 4)) (1.2.14)\n",
      "Requirement already satisfied: lxml>=4.8 in /usr/local/lib/python3.10/dist-packages (from pikepdf->-r requirements.txt (line 4)) (4.9.4)\n",
      "Requirement already satisfied: six>=1.1.0 in /usr/local/lib/python3.10/dist-packages (from transliterate->-r requirements.txt (line 5)) (1.16.0)\n",
      "Requirement already satisfied: PyYAML>=5.3 in /usr/local/lib/python3.10/dist-packages (from langchain->-r requirements.txt (line 6)) (6.0.1)\n",
      "Requirement already satisfied: SQLAlchemy<3,>=1.4 in /usr/local/lib/python3.10/dist-packages (from langchain->-r requirements.txt (line 6)) (2.0.27)\n",
      "Requirement already satisfied: aiohttp<4.0.0,>=3.8.3 in /usr/local/lib/python3.10/dist-packages (from langchain->-r requirements.txt (line 6)) (3.9.3)\n",
      "Requirement already satisfied: async-timeout<5.0.0,>=4.0.0 in /usr/local/lib/python3.10/dist-packages (from langchain->-r requirements.txt (line 6)) (4.0.3)\n",
      "Requirement already satisfied: dataclasses-json<0.7,>=0.5.7 in /usr/local/lib/python3.10/dist-packages (from langchain->-r requirements.txt (line 6)) (0.6.4)\n",
      "Requirement already satisfied: jsonpatch<2.0,>=1.33 in /usr/local/lib/python3.10/dist-packages (from langchain->-r requirements.txt (line 6)) (1.33)\n",
      "Requirement already satisfied: langchain-community<0.1,>=0.0.21 in /usr/local/lib/python3.10/dist-packages (from langchain->-r requirements.txt (line 6)) (0.0.21)\n",
      "Requirement already satisfied: langchain-core<0.2,>=0.1.24 in /usr/local/lib/python3.10/dist-packages (from langchain->-r requirements.txt (line 6)) (0.1.24)\n",
      "Requirement already satisfied: langsmith<0.2.0,>=0.1.0 in /usr/local/lib/python3.10/dist-packages (from langchain->-r requirements.txt (line 6)) (0.1.3)\n",
      "Requirement already satisfied: numpy<2,>=1 in /usr/local/lib/python3.10/dist-packages (from langchain->-r requirements.txt (line 6)) (1.25.2)\n",
      "Requirement already satisfied: requests<3,>=2 in /usr/local/lib/python3.10/dist-packages (from langchain->-r requirements.txt (line 6)) (2.31.0)\n",
      "Requirement already satisfied: tenacity<9.0.0,>=8.1.0 in /usr/local/lib/python3.10/dist-packages (from langchain->-r requirements.txt (line 6)) (8.2.3)\n",
      "Requirement already satisfied: click<9,>=7.0 in /usr/local/lib/python3.10/dist-packages (from mlflow->-r requirements.txt (line 7)) (8.1.7)\n",
      "Requirement already satisfied: cloudpickle<4 in /usr/local/lib/python3.10/dist-packages (from mlflow->-r requirements.txt (line 7)) (2.2.1)\n",
      "Requirement already satisfied: entrypoints<1 in /usr/local/lib/python3.10/dist-packages (from mlflow->-r requirements.txt (line 7)) (0.4)\n",
      "Requirement already satisfied: gitpython<4,>=2.1.0 in /usr/local/lib/python3.10/dist-packages (from mlflow->-r requirements.txt (line 7)) (3.1.42)\n",
      "Requirement already satisfied: protobuf<5,>=3.12.0 in /usr/local/lib/python3.10/dist-packages (from mlflow->-r requirements.txt (line 7)) (3.20.3)\n",
      "Requirement already satisfied: pytz<2024 in /usr/local/lib/python3.10/dist-packages (from mlflow->-r requirements.txt (line 7)) (2023.4)\n",
      "Requirement already satisfied: importlib-metadata!=4.7.0,<8,>=3.7.0 in /usr/local/lib/python3.10/dist-packages (from mlflow->-r requirements.txt (line 7)) (7.0.1)\n",
      "Requirement already satisfied: sqlparse<1,>=0.4.0 in /usr/local/lib/python3.10/dist-packages (from mlflow->-r requirements.txt (line 7)) (0.4.4)\n",
      "Requirement already satisfied: alembic!=1.10.0,<2 in /usr/local/lib/python3.10/dist-packages (from mlflow->-r requirements.txt (line 7)) (1.13.1)\n",
      "Requirement already satisfied: docker<8,>=4.0.0 in /usr/local/lib/python3.10/dist-packages (from mlflow->-r requirements.txt (line 7)) (7.0.0)\n",
      "Requirement already satisfied: Flask<4 in /usr/local/lib/python3.10/dist-packages (from mlflow->-r requirements.txt (line 7)) (2.2.5)\n",
      "Requirement already satisfied: scipy<2 in /usr/local/lib/python3.10/dist-packages (from mlflow->-r requirements.txt (line 7)) (1.11.4)\n",
      "Requirement already satisfied: pandas<3 in /usr/local/lib/python3.10/dist-packages (from mlflow->-r requirements.txt (line 7)) (1.5.3)\n",
      "Requirement already satisfied: querystring-parser<2 in /usr/local/lib/python3.10/dist-packages (from mlflow->-r requirements.txt (line 7)) (1.2.4)\n",
      "Requirement already satisfied: scikit-learn<2 in /usr/local/lib/python3.10/dist-packages (from mlflow->-r requirements.txt (line 7)) (1.2.2)\n",
      "Requirement already satisfied: pyarrow<16,>=4.0.0 in /usr/local/lib/python3.10/dist-packages (from mlflow->-r requirements.txt (line 7)) (10.0.1)\n",
      "Requirement already satisfied: markdown<4,>=3.3 in /usr/local/lib/python3.10/dist-packages (from mlflow->-r requirements.txt (line 7)) (3.5.2)\n",
      "Requirement already satisfied: matplotlib<4 in /usr/local/lib/python3.10/dist-packages (from mlflow->-r requirements.txt (line 7)) (3.7.1)\n",
      "Requirement already satisfied: gunicorn<22 in /usr/local/lib/python3.10/dist-packages (from mlflow->-r requirements.txt (line 7)) (21.2.0)\n",
      "Requirement already satisfied: Jinja2<4,>=2.11 in /usr/local/lib/python3.10/dist-packages (from mlflow->-r requirements.txt (line 7)) (3.1.3)\n",
      "Requirement already satisfied: transformers<5.0.0,>=4.32.0 in /usr/local/lib/python3.10/dist-packages (from sentence-transformers->-r requirements.txt (line 8)) (4.35.2)\n",
      "Requirement already satisfied: tqdm in /usr/local/lib/python3.10/dist-packages (from sentence-transformers->-r requirements.txt (line 8)) (4.66.2)\n",
      "Requirement already satisfied: torch>=1.11.0 in /usr/local/lib/python3.10/dist-packages (from sentence-transformers->-r requirements.txt (line 8)) (2.1.0+cu121)\n",
      "Requirement already satisfied: nltk in /usr/local/lib/python3.10/dist-packages (from sentence-transformers->-r requirements.txt (line 8)) (3.8.1)\n",
      "Requirement already satisfied: sentencepiece in /usr/local/lib/python3.10/dist-packages (from sentence-transformers->-r requirements.txt (line 8)) (0.1.99)\n",
      "Requirement already satisfied: huggingface-hub>=0.15.1 in /usr/local/lib/python3.10/dist-packages (from sentence-transformers->-r requirements.txt (line 8)) (0.20.3)\n",
      "Requirement already satisfied: aiosignal>=1.1.2 in /usr/local/lib/python3.10/dist-packages (from aiohttp<4.0.0,>=3.8.3->langchain->-r requirements.txt (line 6)) (1.3.1)\n",
      "Requirement already satisfied: attrs>=17.3.0 in /usr/local/lib/python3.10/dist-packages (from aiohttp<4.0.0,>=3.8.3->langchain->-r requirements.txt (line 6)) (23.2.0)\n",
      "Requirement already satisfied: frozenlist>=1.1.1 in /usr/local/lib/python3.10/dist-packages (from aiohttp<4.0.0,>=3.8.3->langchain->-r requirements.txt (line 6)) (1.4.1)\n",
      "Requirement already satisfied: multidict<7.0,>=4.5 in /usr/local/lib/python3.10/dist-packages (from aiohttp<4.0.0,>=3.8.3->langchain->-r requirements.txt (line 6)) (6.0.5)\n",
      "Requirement already satisfied: yarl<2.0,>=1.0 in /usr/local/lib/python3.10/dist-packages (from aiohttp<4.0.0,>=3.8.3->langchain->-r requirements.txt (line 6)) (1.9.4)\n",
      "Requirement already satisfied: Mako in /usr/local/lib/python3.10/dist-packages (from alembic!=1.10.0,<2->mlflow->-r requirements.txt (line 7)) (1.3.2)\n",
      "Requirement already satisfied: marshmallow<4.0.0,>=3.18.0 in /usr/local/lib/python3.10/dist-packages (from dataclasses-json<0.7,>=0.5.7->langchain->-r requirements.txt (line 6)) (3.20.2)\n",
      "Requirement already satisfied: typing-inspect<1,>=0.4.0 in /usr/local/lib/python3.10/dist-packages (from dataclasses-json<0.7,>=0.5.7->langchain->-r requirements.txt (line 6)) (0.9.0)\n",
      "Requirement already satisfied: urllib3>=1.26.0 in /usr/local/lib/python3.10/dist-packages (from docker<8,>=4.0.0->mlflow->-r requirements.txt (line 7)) (2.0.7)\n",
      "Requirement already satisfied: Werkzeug>=2.2.2 in /usr/local/lib/python3.10/dist-packages (from Flask<4->mlflow->-r requirements.txt (line 7)) (3.0.1)\n",
      "Requirement already satisfied: itsdangerous>=2.0 in /usr/local/lib/python3.10/dist-packages (from Flask<4->mlflow->-r requirements.txt (line 7)) (2.1.2)\n",
      "Requirement already satisfied: gitdb<5,>=4.0.1 in /usr/local/lib/python3.10/dist-packages (from gitpython<4,>=2.1.0->mlflow->-r requirements.txt (line 7)) (4.0.11)\n",
      "Requirement already satisfied: anyio in /usr/local/lib/python3.10/dist-packages (from httpx<1,>=0.21.0->replicate->-r requirements.txt (line 1)) (3.7.1)\n",
      "Requirement already satisfied: certifi in /usr/local/lib/python3.10/dist-packages (from httpx<1,>=0.21.0->replicate->-r requirements.txt (line 1)) (2024.2.2)\n",
      "Requirement already satisfied: httpcore==1.* in /usr/local/lib/python3.10/dist-packages (from httpx<1,>=0.21.0->replicate->-r requirements.txt (line 1)) (1.0.3)\n",
      "Requirement already satisfied: idna in /usr/local/lib/python3.10/dist-packages (from httpx<1,>=0.21.0->replicate->-r requirements.txt (line 1)) (3.6)\n",
      "Requirement already satisfied: sniffio in /usr/local/lib/python3.10/dist-packages (from httpx<1,>=0.21.0->replicate->-r requirements.txt (line 1)) (1.3.0)\n",
      "Requirement already satisfied: h11<0.15,>=0.13 in /usr/local/lib/python3.10/dist-packages (from httpcore==1.*->httpx<1,>=0.21.0->replicate->-r requirements.txt (line 1)) (0.14.0)\n",
      "Requirement already satisfied: filelock in /usr/local/lib/python3.10/dist-packages (from huggingface-hub>=0.15.1->sentence-transformers->-r requirements.txt (line 8)) (3.13.1)\n",
      "Requirement already satisfied: fsspec>=2023.5.0 in /usr/local/lib/python3.10/dist-packages (from huggingface-hub>=0.15.1->sentence-transformers->-r requirements.txt (line 8)) (2023.6.0)\n",
      "Requirement already satisfied: zipp>=0.5 in /usr/local/lib/python3.10/dist-packages (from importlib-metadata!=4.7.0,<8,>=3.7.0->mlflow->-r requirements.txt (line 7)) (3.17.0)\n",
      "Requirement already satisfied: MarkupSafe>=2.0 in /usr/local/lib/python3.10/dist-packages (from Jinja2<4,>=2.11->mlflow->-r requirements.txt (line 7)) (2.1.5)\n",
      "Requirement already satisfied: jsonpointer>=1.9 in /usr/local/lib/python3.10/dist-packages (from jsonpatch<2.0,>=1.33->langchain->-r requirements.txt (line 6)) (2.4)\n",
      "Requirement already satisfied: contourpy>=1.0.1 in /usr/local/lib/python3.10/dist-packages (from matplotlib<4->mlflow->-r requirements.txt (line 7)) (1.2.0)\n",
      "Requirement already satisfied: cycler>=0.10 in /usr/local/lib/python3.10/dist-packages (from matplotlib<4->mlflow->-r requirements.txt (line 7)) (0.12.1)\n",
      "Requirement already satisfied: fonttools>=4.22.0 in /usr/local/lib/python3.10/dist-packages (from matplotlib<4->mlflow->-r requirements.txt (line 7)) (4.48.1)\n",
      "Requirement already satisfied: kiwisolver>=1.0.1 in /usr/local/lib/python3.10/dist-packages (from matplotlib<4->mlflow->-r requirements.txt (line 7)) (1.4.5)\n",
      "Requirement already satisfied: pyparsing>=2.3.1 in /usr/local/lib/python3.10/dist-packages (from matplotlib<4->mlflow->-r requirements.txt (line 7)) (3.1.1)\n",
      "Requirement already satisfied: python-dateutil>=2.7 in /usr/local/lib/python3.10/dist-packages (from matplotlib<4->mlflow->-r requirements.txt (line 7)) (2.8.2)\n",
      "Requirement already satisfied: annotated-types>=0.4.0 in /usr/local/lib/python3.10/dist-packages (from pydantic>1->replicate->-r requirements.txt (line 1)) (0.6.0)\n",
      "Requirement already satisfied: pydantic-core==2.16.2 in /usr/local/lib/python3.10/dist-packages (from pydantic>1->replicate->-r requirements.txt (line 1)) (2.16.2)\n",
      "Requirement already satisfied: charset-normalizer<4,>=2 in /usr/local/lib/python3.10/dist-packages (from requests<3,>=2->langchain->-r requirements.txt (line 6)) (3.3.2)\n",
      "Requirement already satisfied: joblib>=1.1.1 in /usr/local/lib/python3.10/dist-packages (from scikit-learn<2->mlflow->-r requirements.txt (line 7)) (1.3.2)\n",
      "Requirement already satisfied: threadpoolctl>=2.0.0 in /usr/local/lib/python3.10/dist-packages (from scikit-learn<2->mlflow->-r requirements.txt (line 7)) (3.2.0)\n",
      "Requirement already satisfied: greenlet!=0.4.17 in /usr/local/lib/python3.10/dist-packages (from SQLAlchemy<3,>=1.4->langchain->-r requirements.txt (line 6)) (3.0.3)\n",
      "Requirement already satisfied: sympy in /usr/local/lib/python3.10/dist-packages (from torch>=1.11.0->sentence-transformers->-r requirements.txt (line 8)) (1.12)\n",
      "Requirement already satisfied: networkx in /usr/local/lib/python3.10/dist-packages (from torch>=1.11.0->sentence-transformers->-r requirements.txt (line 8)) (3.2.1)\n",
      "Requirement already satisfied: triton==2.1.0 in /usr/local/lib/python3.10/dist-packages (from torch>=1.11.0->sentence-transformers->-r requirements.txt (line 8)) (2.1.0)\n",
      "Requirement already satisfied: regex!=2019.12.17 in /usr/local/lib/python3.10/dist-packages (from transformers<5.0.0,>=4.32.0->sentence-transformers->-r requirements.txt (line 8)) (2023.12.25)\n",
      "Requirement already satisfied: tokenizers<0.19,>=0.14 in /usr/local/lib/python3.10/dist-packages (from transformers<5.0.0,>=4.32.0->sentence-transformers->-r requirements.txt (line 8)) (0.15.2)\n",
      "Requirement already satisfied: safetensors>=0.3.1 in /usr/local/lib/python3.10/dist-packages (from transformers<5.0.0,>=4.32.0->sentence-transformers->-r requirements.txt (line 8)) (0.4.2)\n",
      "Requirement already satisfied: wrapt<2,>=1.10 in /usr/local/lib/python3.10/dist-packages (from Deprecated->pikepdf->-r requirements.txt (line 4)) (1.14.1)\n",
      "Requirement already satisfied: exceptiongroup in /usr/local/lib/python3.10/dist-packages (from anyio->httpx<1,>=0.21.0->replicate->-r requirements.txt (line 1)) (1.2.0)\n",
      "Requirement already satisfied: smmap<6,>=3.0.1 in /usr/local/lib/python3.10/dist-packages (from gitdb<5,>=4.0.1->gitpython<4,>=2.1.0->mlflow->-r requirements.txt (line 7)) (5.0.1)\n",
      "Requirement already satisfied: mypy-extensions>=0.3.0 in /usr/local/lib/python3.10/dist-packages (from typing-inspect<1,>=0.4.0->dataclasses-json<0.7,>=0.5.7->langchain->-r requirements.txt (line 6)) (1.0.0)\n",
      "Requirement already satisfied: mpmath>=0.19 in /usr/local/lib/python3.10/dist-packages (from sympy->torch>=1.11.0->sentence-transformers->-r requirements.txt (line 8)) (1.3.0)\n"
     ]
    }
   ],
   "source": [
    "!pip install -r requirements.txt"
   ]
  },
  {
   "cell_type": "markdown",
   "metadata": {
    "id": "XzVJEVbFU998"
   },
   "source": [
    "### Aditional libraries imporing"
   ]
  },
  {
   "cell_type": "code",
   "execution_count": 5,
   "metadata": {
    "executionInfo": {
     "elapsed": 3315,
     "status": "ok",
     "timestamp": 1708458756047,
     "user": {
      "displayName": "Igor Mandarić",
      "userId": "09696522975021983376"
     },
     "user_tz": -60
    },
    "id": "9zMAKpWaVwch"
   },
   "outputs": [],
   "source": [
    "import replicate\n",
    "\n",
    "import pypdf\n",
    "import PyPDF2\n",
    "from transliterate import translit\n",
    "\n",
    "import langchain\n",
    "from langchain.llms import Replicate\n",
    "from langchain.document_loaders import PyPDFDirectoryLoader\n",
    "from langchain.text_splitter import RecursiveCharacterTextSplitter\n",
    "from langchain.vectorstores import FAISS\n",
    "from langchain.embeddings import HuggingFaceEmbeddings\n",
    "from langchain.chains import ConversationalRetrievalChain\n",
    "from langchain.chains import RetrievalQA\n",
    "from langchain.prompts.prompt import PromptTemplate"
   ]
  },
  {
   "cell_type": "markdown",
   "metadata": {
    "id": "t29h95uIukf5"
   },
   "source": [
    "## Data preprocessing"
   ]
  },
  {
   "cell_type": "markdown",
   "metadata": {
    "id": "CMlCvu3rKVr8"
   },
   "source": [
    "### Question-answer data loading and showing"
   ]
  },
  {
   "cell_type": "code",
   "execution_count": 6,
   "metadata": {
    "colab": {
     "base_uri": "https://localhost:8080/",
     "height": 637
    },
    "executionInfo": {
     "elapsed": 23,
     "status": "ok",
     "timestamp": 1708458756049,
     "user": {
      "displayName": "Igor Mandarić",
      "userId": "09696522975021983376"
     },
     "user_tz": -60
    },
    "id": "Rn4FUFwFKWDE",
    "outputId": "7027ae32-2fe1-4f3b-8ce8-1e7cea7fa190"
   },
   "outputs": [
    {
     "name": "stdout",
     "output_type": "stream",
     "text": [
      "======================================================================================================================================================\n",
      "Question-answer base:\n"
     ]
    },
    {
     "data": {
      "application/vnd.google.colaboratory.intrinsic+json": {
       "summary": "{\n  \"name\": \"print(DOUBLE_LINE)\",\n  \"rows\": 17,\n  \"fields\": [\n    {\n      \"column\": \"Pitanje\",\n      \"properties\": {\n        \"dtype\": \"string\",\n        \"samples\": [\n          \"Do kada traje upis?\",\n          \"Kako izgleda ispit za upis na arhitekturu?\",\n          \"Sta se desava sa studentima kojima istice status studenta zbog isteka roka za studiranje?\"\n        ],\n        \"num_unique_values\": 17,\n        \"semantic_type\": \"\",\n        \"description\": \"\"\n      }\n    },\n    {\n      \"column\": \"Odgovor\",\n      \"properties\": {\n        \"dtype\": \"string\",\n        \"samples\": [\n          \"\\\"Upis u skolsku 2023/24. godinu potrebno je izvrsiti najkasnije do 6.10.2023. godine.\\\"\",\n          \"\\\"Prijemni ispit za studije arhitekture obuhvata testove iz oblasti arhitektonskog projektovanja, urbanizma, matematike, geometrije i ra\\u010dunara, savremene arhitekture, istorije i teorije, umetnosti i dizajna u arhitekturi. Ovaj ispit ocenjuje sposobnost kandidata da razumeju i primene osnovne koncepte vezane za arhitekturu i srodne discipline, kao i njihovu kreativnost i sposobnost analiti\\u010dkog razmi\\u0161ljanja u kontekstu arhitektonskog dizajna.\\\"\",\n          \"\\\"Studenti kojima isti\\u010de status studenta zbog isteka roka za studiranje, podnose molbu za razmatranje produzenja statusa studenta najkasnije do 29.09.2023. godine.\\\"\"\n        ],\n        \"num_unique_values\": 17,\n        \"semantic_type\": \"\",\n        \"description\": \"\"\n      }\n    },\n    {\n      \"column\": \"Dokument\",\n      \"properties\": {\n        \"dtype\": \"category\",\n        \"samples\": [\n          \"OAS22\",\n          \"FTNnovine67\",\n          \"Informator_2023/2024\"\n        ],\n        \"num_unique_values\": 4,\n        \"semantic_type\": \"\",\n        \"description\": \"\"\n      }\n    }\n  ]\n}",
       "type": "dataframe"
      },
      "text/html": [
       "\n",
       "  <div id=\"df-073298b7-22ea-4c4f-b5ff-92ed34ae73c0\" class=\"colab-df-container\">\n",
       "    <div>\n",
       "<style scoped>\n",
       "    .dataframe tbody tr th:only-of-type {\n",
       "        vertical-align: middle;\n",
       "    }\n",
       "\n",
       "    .dataframe tbody tr th {\n",
       "        vertical-align: top;\n",
       "    }\n",
       "\n",
       "    .dataframe thead th {\n",
       "        text-align: right;\n",
       "    }\n",
       "</style>\n",
       "<table border=\"1\" class=\"dataframe\">\n",
       "  <thead>\n",
       "    <tr style=\"text-align: right;\">\n",
       "      <th></th>\n",
       "      <th>Pitanje</th>\n",
       "      <th>Odgovor</th>\n",
       "      <th>Dokument</th>\n",
       "    </tr>\n",
       "  </thead>\n",
       "  <tbody>\n",
       "    <tr>\n",
       "      <th>0</th>\n",
       "      <td>Do kada traje upis?</td>\n",
       "      <td>\"Upis u skolsku 2023/24. godinu potrebno je iz...</td>\n",
       "      <td>Informator_2023/2024</td>\n",
       "    </tr>\n",
       "    <tr>\n",
       "      <th>1</th>\n",
       "      <td>Kako izgleda ispit za upis na arhitekturu?</td>\n",
       "      <td>\"Prijemni ispit za studije arhitekture obuhvat...</td>\n",
       "      <td>OAS22</td>\n",
       "    </tr>\n",
       "    <tr>\n",
       "      <th>2</th>\n",
       "      <td>Koliko bodova treba da imam za upis na budzet?</td>\n",
       "      <td>\"Pravo na buzdet imaju svi studenti koji su u ...</td>\n",
       "      <td>Informator_2023/2024</td>\n",
       "    </tr>\n",
       "    <tr>\n",
       "      <th>3</th>\n",
       "      <td>Koliki su troskovi upisa u skolsku 2023/2024?</td>\n",
       "      <td>\"Troškovi upisa za studente bez zaostalih pred...</td>\n",
       "      <td>Informator_2023/2024</td>\n",
       "    </tr>\n",
       "    <tr>\n",
       "      <th>4</th>\n",
       "      <td>Koliko studenti placaju nepolozene ispite?</td>\n",
       "      <td>\"Nepolozene ispite studenti placaju po bodu. C...</td>\n",
       "      <td>Informator_2023/2024</td>\n",
       "    </tr>\n",
       "    <tr>\n",
       "      <th>5</th>\n",
       "      <td>Sta se desava sa studentima kojima istice stat...</td>\n",
       "      <td>\"Studenti kojima ističe status studenta zbog i...</td>\n",
       "      <td>Informator_2023/2024</td>\n",
       "    </tr>\n",
       "    <tr>\n",
       "      <th>6</th>\n",
       "      <td>Sta je vizija fakulteta?</td>\n",
       "      <td>\"Vizija fakulteta je zasnovana na dugoročnoj o...</td>\n",
       "      <td>Strategija_fakulteta</td>\n",
       "    </tr>\n",
       "    <tr>\n",
       "      <th>7</th>\n",
       "      <td>Koje se oblasti izucavaju na Fakultetu tehnick...</td>\n",
       "      <td>\"Na Fakultetu tehničkih nauka izucavaju se sle...</td>\n",
       "      <td>OAS22</td>\n",
       "    </tr>\n",
       "    <tr>\n",
       "      <th>8</th>\n",
       "      <td>Koliko traju osnovne akademske studije masinstav?</td>\n",
       "      <td>\"Osnovne akademsk studije traju cetiri godine ...</td>\n",
       "      <td>OAS22</td>\n",
       "    </tr>\n",
       "    <tr>\n",
       "      <th>9</th>\n",
       "      <td>Da li je Fakutet tehnickih nauka akreditovan?</td>\n",
       "      <td>\" Fakultet tehnickih nauka akreditovan je za o...</td>\n",
       "      <td>OAS22</td>\n",
       "    </tr>\n",
       "    <tr>\n",
       "      <th>10</th>\n",
       "      <td>Sta je \"dodatak diplomi\"?</td>\n",
       "      <td>\" \"Dodatak diplomi\" je dokument koji se izdaje...</td>\n",
       "      <td>OAS22</td>\n",
       "    </tr>\n",
       "    <tr>\n",
       "      <th>11</th>\n",
       "      <td>Koji su uslovi upisa na osnovne akademske i os...</td>\n",
       "      <td>\"Uslovi upisa na osnovne akademske i osnovne s...</td>\n",
       "      <td>OAS22</td>\n",
       "    </tr>\n",
       "    <tr>\n",
       "      <th>12</th>\n",
       "      <td>Sta je projekat AI-Speak?</td>\n",
       "      <td>\" AI-SPEAK je projekat koji se fokusira na raz...</td>\n",
       "      <td>FTNnovine67</td>\n",
       "    </tr>\n",
       "    <tr>\n",
       "      <th>13</th>\n",
       "      <td>Da li postoje dvosemestralni ispiti?</td>\n",
       "      <td>\"Ne, svi ispiti su jednosemestralni. \"</td>\n",
       "      <td>OAS22</td>\n",
       "    </tr>\n",
       "    <tr>\n",
       "      <th>14</th>\n",
       "      <td>Da li se polaze test opste kulture?</td>\n",
       "      <td>\"Test opste kulture i informisanosti polazu st...</td>\n",
       "      <td>OAS22</td>\n",
       "    </tr>\n",
       "    <tr>\n",
       "      <th>15</th>\n",
       "      <td>Sta je sve potrebno od fokumenata prilikom upisa?</td>\n",
       "      <td>\" Za upis na fakultet potrebna su sledeca doku...</td>\n",
       "      <td>OAS22</td>\n",
       "    </tr>\n",
       "    <tr>\n",
       "      <th>16</th>\n",
       "      <td>Gde je odrzan seminar Artificial Intelligence ...</td>\n",
       "      <td>\"Seminar Artificial Intelligence and its Busin...</td>\n",
       "      <td>FTNnovine67</td>\n",
       "    </tr>\n",
       "  </tbody>\n",
       "</table>\n",
       "</div>\n",
       "    <div class=\"colab-df-buttons\">\n",
       "\n",
       "  <div class=\"colab-df-container\">\n",
       "    <button class=\"colab-df-convert\" onclick=\"convertToInteractive('df-073298b7-22ea-4c4f-b5ff-92ed34ae73c0')\"\n",
       "            title=\"Convert this dataframe to an interactive table.\"\n",
       "            style=\"display:none;\">\n",
       "\n",
       "  <svg xmlns=\"http://www.w3.org/2000/svg\" height=\"24px\" viewBox=\"0 -960 960 960\">\n",
       "    <path d=\"M120-120v-720h720v720H120Zm60-500h600v-160H180v160Zm220 220h160v-160H400v160Zm0 220h160v-160H400v160ZM180-400h160v-160H180v160Zm440 0h160v-160H620v160ZM180-180h160v-160H180v160Zm440 0h160v-160H620v160Z\"/>\n",
       "  </svg>\n",
       "    </button>\n",
       "\n",
       "  <style>\n",
       "    .colab-df-container {\n",
       "      display:flex;\n",
       "      gap: 12px;\n",
       "    }\n",
       "\n",
       "    .colab-df-convert {\n",
       "      background-color: #E8F0FE;\n",
       "      border: none;\n",
       "      border-radius: 50%;\n",
       "      cursor: pointer;\n",
       "      display: none;\n",
       "      fill: #1967D2;\n",
       "      height: 32px;\n",
       "      padding: 0 0 0 0;\n",
       "      width: 32px;\n",
       "    }\n",
       "\n",
       "    .colab-df-convert:hover {\n",
       "      background-color: #E2EBFA;\n",
       "      box-shadow: 0px 1px 2px rgba(60, 64, 67, 0.3), 0px 1px 3px 1px rgba(60, 64, 67, 0.15);\n",
       "      fill: #174EA6;\n",
       "    }\n",
       "\n",
       "    .colab-df-buttons div {\n",
       "      margin-bottom: 4px;\n",
       "    }\n",
       "\n",
       "    [theme=dark] .colab-df-convert {\n",
       "      background-color: #3B4455;\n",
       "      fill: #D2E3FC;\n",
       "    }\n",
       "\n",
       "    [theme=dark] .colab-df-convert:hover {\n",
       "      background-color: #434B5C;\n",
       "      box-shadow: 0px 1px 3px 1px rgba(0, 0, 0, 0.15);\n",
       "      filter: drop-shadow(0px 1px 2px rgba(0, 0, 0, 0.3));\n",
       "      fill: #FFFFFF;\n",
       "    }\n",
       "  </style>\n",
       "\n",
       "    <script>\n",
       "      const buttonEl =\n",
       "        document.querySelector('#df-073298b7-22ea-4c4f-b5ff-92ed34ae73c0 button.colab-df-convert');\n",
       "      buttonEl.style.display =\n",
       "        google.colab.kernel.accessAllowed ? 'block' : 'none';\n",
       "\n",
       "      async function convertToInteractive(key) {\n",
       "        const element = document.querySelector('#df-073298b7-22ea-4c4f-b5ff-92ed34ae73c0');\n",
       "        const dataTable =\n",
       "          await google.colab.kernel.invokeFunction('convertToInteractive',\n",
       "                                                    [key], {});\n",
       "        if (!dataTable) return;\n",
       "\n",
       "        const docLinkHtml = 'Like what you see? Visit the ' +\n",
       "          '<a target=\"_blank\" href=https://colab.research.google.com/notebooks/data_table.ipynb>data table notebook</a>'\n",
       "          + ' to learn more about interactive tables.';\n",
       "        element.innerHTML = '';\n",
       "        dataTable['output_type'] = 'display_data';\n",
       "        await google.colab.output.renderOutput(dataTable, element);\n",
       "        const docLink = document.createElement('div');\n",
       "        docLink.innerHTML = docLinkHtml;\n",
       "        element.appendChild(docLink);\n",
       "      }\n",
       "    </script>\n",
       "  </div>\n",
       "\n",
       "\n",
       "<div id=\"df-8bfca206-40c2-4b42-ba9a-219e98937960\">\n",
       "  <button class=\"colab-df-quickchart\" onclick=\"quickchart('df-8bfca206-40c2-4b42-ba9a-219e98937960')\"\n",
       "            title=\"Suggest charts\"\n",
       "            style=\"display:none;\">\n",
       "\n",
       "<svg xmlns=\"http://www.w3.org/2000/svg\" height=\"24px\"viewBox=\"0 0 24 24\"\n",
       "     width=\"24px\">\n",
       "    <g>\n",
       "        <path d=\"M19 3H5c-1.1 0-2 .9-2 2v14c0 1.1.9 2 2 2h14c1.1 0 2-.9 2-2V5c0-1.1-.9-2-2-2zM9 17H7v-7h2v7zm4 0h-2V7h2v10zm4 0h-2v-4h2v4z\"/>\n",
       "    </g>\n",
       "</svg>\n",
       "  </button>\n",
       "\n",
       "<style>\n",
       "  .colab-df-quickchart {\n",
       "      --bg-color: #E8F0FE;\n",
       "      --fill-color: #1967D2;\n",
       "      --hover-bg-color: #E2EBFA;\n",
       "      --hover-fill-color: #174EA6;\n",
       "      --disabled-fill-color: #AAA;\n",
       "      --disabled-bg-color: #DDD;\n",
       "  }\n",
       "\n",
       "  [theme=dark] .colab-df-quickchart {\n",
       "      --bg-color: #3B4455;\n",
       "      --fill-color: #D2E3FC;\n",
       "      --hover-bg-color: #434B5C;\n",
       "      --hover-fill-color: #FFFFFF;\n",
       "      --disabled-bg-color: #3B4455;\n",
       "      --disabled-fill-color: #666;\n",
       "  }\n",
       "\n",
       "  .colab-df-quickchart {\n",
       "    background-color: var(--bg-color);\n",
       "    border: none;\n",
       "    border-radius: 50%;\n",
       "    cursor: pointer;\n",
       "    display: none;\n",
       "    fill: var(--fill-color);\n",
       "    height: 32px;\n",
       "    padding: 0;\n",
       "    width: 32px;\n",
       "  }\n",
       "\n",
       "  .colab-df-quickchart:hover {\n",
       "    background-color: var(--hover-bg-color);\n",
       "    box-shadow: 0 1px 2px rgba(60, 64, 67, 0.3), 0 1px 3px 1px rgba(60, 64, 67, 0.15);\n",
       "    fill: var(--button-hover-fill-color);\n",
       "  }\n",
       "\n",
       "  .colab-df-quickchart-complete:disabled,\n",
       "  .colab-df-quickchart-complete:disabled:hover {\n",
       "    background-color: var(--disabled-bg-color);\n",
       "    fill: var(--disabled-fill-color);\n",
       "    box-shadow: none;\n",
       "  }\n",
       "\n",
       "  .colab-df-spinner {\n",
       "    border: 2px solid var(--fill-color);\n",
       "    border-color: transparent;\n",
       "    border-bottom-color: var(--fill-color);\n",
       "    animation:\n",
       "      spin 1s steps(1) infinite;\n",
       "  }\n",
       "\n",
       "  @keyframes spin {\n",
       "    0% {\n",
       "      border-color: transparent;\n",
       "      border-bottom-color: var(--fill-color);\n",
       "      border-left-color: var(--fill-color);\n",
       "    }\n",
       "    20% {\n",
       "      border-color: transparent;\n",
       "      border-left-color: var(--fill-color);\n",
       "      border-top-color: var(--fill-color);\n",
       "    }\n",
       "    30% {\n",
       "      border-color: transparent;\n",
       "      border-left-color: var(--fill-color);\n",
       "      border-top-color: var(--fill-color);\n",
       "      border-right-color: var(--fill-color);\n",
       "    }\n",
       "    40% {\n",
       "      border-color: transparent;\n",
       "      border-right-color: var(--fill-color);\n",
       "      border-top-color: var(--fill-color);\n",
       "    }\n",
       "    60% {\n",
       "      border-color: transparent;\n",
       "      border-right-color: var(--fill-color);\n",
       "    }\n",
       "    80% {\n",
       "      border-color: transparent;\n",
       "      border-right-color: var(--fill-color);\n",
       "      border-bottom-color: var(--fill-color);\n",
       "    }\n",
       "    90% {\n",
       "      border-color: transparent;\n",
       "      border-bottom-color: var(--fill-color);\n",
       "    }\n",
       "  }\n",
       "</style>\n",
       "\n",
       "  <script>\n",
       "    async function quickchart(key) {\n",
       "      const quickchartButtonEl =\n",
       "        document.querySelector('#' + key + ' button');\n",
       "      quickchartButtonEl.disabled = true;  // To prevent multiple clicks.\n",
       "      quickchartButtonEl.classList.add('colab-df-spinner');\n",
       "      try {\n",
       "        const charts = await google.colab.kernel.invokeFunction(\n",
       "            'suggestCharts', [key], {});\n",
       "      } catch (error) {\n",
       "        console.error('Error during call to suggestCharts:', error);\n",
       "      }\n",
       "      quickchartButtonEl.classList.remove('colab-df-spinner');\n",
       "      quickchartButtonEl.classList.add('colab-df-quickchart-complete');\n",
       "    }\n",
       "    (() => {\n",
       "      let quickchartButtonEl =\n",
       "        document.querySelector('#df-8bfca206-40c2-4b42-ba9a-219e98937960 button');\n",
       "      quickchartButtonEl.style.display =\n",
       "        google.colab.kernel.accessAllowed ? 'block' : 'none';\n",
       "    })();\n",
       "  </script>\n",
       "</div>\n",
       "    </div>\n",
       "  </div>\n"
      ],
      "text/plain": [
       "                                              Pitanje  \\\n",
       "0                                 Do kada traje upis?   \n",
       "1          Kako izgleda ispit za upis na arhitekturu?   \n",
       "2      Koliko bodova treba da imam za upis na budzet?   \n",
       "3       Koliki su troskovi upisa u skolsku 2023/2024?   \n",
       "4          Koliko studenti placaju nepolozene ispite?   \n",
       "5   Sta se desava sa studentima kojima istice stat...   \n",
       "6                            Sta je vizija fakulteta?   \n",
       "7   Koje se oblasti izucavaju na Fakultetu tehnick...   \n",
       "8   Koliko traju osnovne akademske studije masinstav?   \n",
       "9      Da li je Fakutet tehnickih nauka akreditovan?    \n",
       "10                          Sta je \"dodatak diplomi\"?   \n",
       "11  Koji su uslovi upisa na osnovne akademske i os...   \n",
       "12                          Sta je projekat AI-Speak?   \n",
       "13              Da li postoje dvosemestralni ispiti?    \n",
       "14                Da li se polaze test opste kulture?   \n",
       "15  Sta je sve potrebno od fokumenata prilikom upisa?   \n",
       "16  Gde je odrzan seminar Artificial Intelligence ...   \n",
       "\n",
       "                                              Odgovor              Dokument  \n",
       "0   \"Upis u skolsku 2023/24. godinu potrebno je iz...  Informator_2023/2024  \n",
       "1   \"Prijemni ispit za studije arhitekture obuhvat...                 OAS22  \n",
       "2   \"Pravo na buzdet imaju svi studenti koji su u ...  Informator_2023/2024  \n",
       "3   \"Troškovi upisa za studente bez zaostalih pred...  Informator_2023/2024  \n",
       "4   \"Nepolozene ispite studenti placaju po bodu. C...  Informator_2023/2024  \n",
       "5   \"Studenti kojima ističe status studenta zbog i...  Informator_2023/2024  \n",
       "6   \"Vizija fakulteta je zasnovana na dugoročnoj o...  Strategija_fakulteta  \n",
       "7   \"Na Fakultetu tehničkih nauka izucavaju se sle...                 OAS22  \n",
       "8   \"Osnovne akademsk studije traju cetiri godine ...                 OAS22  \n",
       "9   \" Fakultet tehnickih nauka akreditovan je za o...                 OAS22  \n",
       "10  \" \"Dodatak diplomi\" je dokument koji se izdaje...                 OAS22  \n",
       "11  \"Uslovi upisa na osnovne akademske i osnovne s...                 OAS22  \n",
       "12  \" AI-SPEAK je projekat koji se fokusira na raz...           FTNnovine67  \n",
       "13             \"Ne, svi ispiti su jednosemestralni. \"                 OAS22  \n",
       "14  \"Test opste kulture i informisanosti polazu st...                 OAS22  \n",
       "15  \" Za upis na fakultet potrebna su sledeca doku...                 OAS22  \n",
       "16  \"Seminar Artificial Intelligence and its Busin...           FTNnovine67  "
      ]
     },
     "metadata": {},
     "output_type": "display_data"
    },
    {
     "name": "stdout",
     "output_type": "stream",
     "text": [
      "======================================================================================================================================================\n"
     ]
    }
   ],
   "source": [
    "qa_df = pd.read_csv(QA_BASE_PATH)\n",
    "\n",
    "print(DOUBLE_LINE)\n",
    "\n",
    "print(\"Question-answer base:\")\n",
    "\n",
    "display(qa_df.head(20))\n",
    "\n",
    "print(DOUBLE_LINE)"
   ]
  },
  {
   "cell_type": "markdown",
   "metadata": {
    "id": "96CAiwbXw6IE"
   },
   "source": [
    "### Context data showing"
   ]
  },
  {
   "cell_type": "code",
   "execution_count": 7,
   "metadata": {
    "colab": {
     "base_uri": "https://localhost:8080/"
    },
    "executionInfo": {
     "elapsed": 688,
     "status": "ok",
     "timestamp": 1708458756722,
     "user": {
      "displayName": "Igor Mandarić",
      "userId": "09696522975021983376"
     },
     "user_tz": -60
    },
    "id": "ad1V4IiJw9Wr",
    "outputId": "1f0e20ec-fa95-4ceb-8990-334ebb61471a"
   },
   "outputs": [
    {
     "name": "stdout",
     "output_type": "stream",
     "text": [
      "======================================================================================================================================================\n",
      "PDF files inside path \"/content/drive/MyDrive/FTN_Chatbot/data\":\n",
      "------------------------------------------------------------------------------------------------------------------------------------------------------\n",
      "1. \"FTN_monografija.pdf\" - Pages: 730\n",
      "------------------------------------------------------------------------------------------------------------------------------------------------------\n",
      "2. \"OAS22.pdf\" - Pages: 56\n",
      "------------------------------------------------------------------------------------------------------------------------------------------------------\n",
      "3. \"Informator_2023_2024.pdf\" - Pages: 2\n",
      "------------------------------------------------------------------------------------------------------------------------------------------------------\n",
      "4. \"FTNnovine67.pdf\" - Pages: 24\n",
      "------------------------------------------------------------------------------------------------------------------------------------------------------\n",
      "5. \"Strategija_fakulteta.PDF\" - Pages: 6\n",
      "======================================================================================================================================================\n"
     ]
    }
   ],
   "source": [
    "def get_pdf_page_count(file_path):\n",
    "    try:\n",
    "        with open(file_path, 'rb') as file:\n",
    "            reader = PyPDF2.PdfReader(file)\n",
    "            return len(reader.pages)\n",
    "    except Exception as e:\n",
    "        print(f\"Error reading '{file_path}': {e}\")\n",
    "        return \"N/A\"\n",
    "\n",
    "files_info = []\n",
    "\n",
    "for file_name in os.listdir(DATA_PATH):\n",
    "    if file_name.lower().endswith('.pdf'):\n",
    "        file_path = os.path.join(DATA_PATH, file_name)\n",
    "        page_count = get_pdf_page_count(file_path)\n",
    "        files_info.append((file_name, page_count))\n",
    "\n",
    "print(DOUBLE_LINE)\n",
    "print(f\"PDF files inside path \\\"{PROJECT_PATH}/{DATA_PATH}\\\":\")\n",
    "print(LINE)\n",
    "\n",
    "for i, (file_name, page_count) in enumerate(files_info, start=1):\n",
    "  if i>1:\n",
    "    print(LINE)\n",
    "  print(f\"{i}. \\\"{file_name}\\\" - Pages: {page_count}\")\n",
    "\n",
    "print(DOUBLE_LINE)"
   ]
  },
  {
   "cell_type": "markdown",
   "metadata": {
    "id": "7KwBrbk_unuQ"
   },
   "source": [
    "### Context data loading and script converting"
   ]
  },
  {
   "cell_type": "code",
   "execution_count": 8,
   "metadata": {
    "executionInfo": {
     "elapsed": 7,
     "status": "ok",
     "timestamp": 1708458756722,
     "user": {
      "displayName": "Igor Mandarić",
      "userId": "09696522975021983376"
     },
     "user_tz": -60
    },
    "id": "k5ke-layt7GE"
   },
   "outputs": [],
   "source": [
    "def convert_to_latin(sentence):\n",
    "    latin_sentence = translit(sentence, 'sr', reversed=True)\n",
    "\n",
    "    return latin_sentence\n",
    "\n",
    "if BASE_CREATION_FLAG:\n",
    "  loader = PyPDFDirectoryLoader(DATA_PATH)\n",
    "  documents = loader.load()\n",
    "\n",
    "  for document in documents:\n",
    "      document.page_content = convert_to_latin(document.page_content)"
   ]
  },
  {
   "cell_type": "markdown",
   "metadata": {
    "id": "Uo7Si2G4u1LR"
   },
   "source": [
    "### Context data spliting and embedding"
   ]
  },
  {
   "cell_type": "code",
   "execution_count": 9,
   "metadata": {
    "colab": {
     "base_uri": "https://localhost:8080/"
    },
    "executionInfo": {
     "elapsed": 12019,
     "status": "ok",
     "timestamp": 1708458768736,
     "user": {
      "displayName": "Igor Mandarić",
      "userId": "09696522975021983376"
     },
     "user_tz": -60
    },
    "id": "yoskDc89u5Zc",
    "outputId": "24881349-be25-42b1-e244-c1c5d730d835"
   },
   "outputs": [
    {
     "name": "stderr",
     "output_type": "stream",
     "text": [
      "/usr/local/lib/python3.10/dist-packages/huggingface_hub/utils/_token.py:88: UserWarning: \n",
      "The secret `HF_TOKEN` does not exist in your Colab secrets.\n",
      "To authenticate with the Hugging Face Hub, create a token in your settings tab (https://huggingface.co/settings/tokens), set it as secret in your Google Colab and restart your session.\n",
      "You will be able to reuse this secret in all of your notebooks.\n",
      "Please note that authentication is recommended but still optional to access public models or datasets.\n",
      "  warnings.warn(\n"
     ]
    }
   ],
   "source": [
    "if BASE_CREATION_FLAG:\n",
    "  text_splitter = RecursiveCharacterTextSplitter(chunk_size=CHUNK_SIZE, chunk_overlap=CHUNK_OVERLAP)\n",
    "  splits = text_splitter.split_documents(documents)\n",
    "\n",
    "embeddings = HuggingFaceEmbeddings(model_name=EMBEDDING_MODEL, model_kwargs={\"device\": DEVICE})"
   ]
  },
  {
   "cell_type": "markdown",
   "metadata": {
    "id": "nh6S7Y4Bu6H_"
   },
   "source": [
    "### Data base creating"
   ]
  },
  {
   "cell_type": "code",
   "execution_count": 10,
   "metadata": {
    "executionInfo": {
     "elapsed": 58,
     "status": "ok",
     "timestamp": 1708458768739,
     "user": {
      "displayName": "Igor Mandarić",
      "userId": "09696522975021983376"
     },
     "user_tz": -60
    },
    "id": "ueUnDqZ_vCnb"
   },
   "outputs": [],
   "source": [
    "if BASE_CREATION_FLAG:\n",
    "  database = FAISS.from_documents(splits, embeddings)\n",
    "  database.save_local(DATABASE_PATH)\n",
    "else:\n",
    "  database = FAISS.load_local(DATABASE_PATH,embeddings)"
   ]
  },
  {
   "cell_type": "markdown",
   "metadata": {
    "id": "iK6JXzrkTk-L"
   },
   "source": [
    "## Model creating and testing"
   ]
  },
  {
   "cell_type": "markdown",
   "metadata": {
    "id": "n4KhPsc5WTLp"
   },
   "source": [
    "### Replicate API activation"
   ]
  },
  {
   "cell_type": "code",
   "execution_count": 11,
   "metadata": {
    "executionInfo": {
     "elapsed": 55,
     "status": "ok",
     "timestamp": 1708458768740,
     "user": {
      "displayName": "Igor Mandarić",
      "userId": "09696522975021983376"
     },
     "user_tz": -60
    },
    "id": "oFXNjfWKWWSE"
   },
   "outputs": [],
   "source": [
    "if CHATBOT_FLAG:\n",
    "  os.environ[\"REPLICATE_API_TOKEN\"] = REPLICATE_API_TOKEN"
   ]
  },
  {
   "cell_type": "markdown",
   "metadata": {
    "id": "KTH4WuWBV1yv"
   },
   "source": [
    "### Model creation"
   ]
  },
  {
   "cell_type": "code",
   "execution_count": 12,
   "metadata": {
    "executionInfo": {
     "elapsed": 53,
     "status": "ok",
     "timestamp": 1708458768740,
     "user": {
      "displayName": "Igor Mandarić",
      "userId": "09696522975021983376"
     },
     "user_tz": -60
    },
    "id": "5p4iTBWeVesy"
   },
   "outputs": [],
   "source": [
    "if CHATBOT_FLAG:\n",
    "  chatbot = Replicate(\n",
    "      model=CHATBOT_MODEL,\n",
    "      model_kwargs={\"temperature\": TEMPERATURE,\"top_p\": TOP_PERCENT, \"max_new_tokens\":MAX_NEW_TOKENS}\n",
    "  )"
   ]
  },
  {
   "cell_type": "markdown",
   "metadata": {
    "id": "CWmzc9Q0sgnW"
   },
   "source": [
    "### Q&A chain creation"
   ]
  },
  {
   "cell_type": "code",
   "execution_count": 13,
   "metadata": {
    "executionInfo": {
     "elapsed": 52,
     "status": "ok",
     "timestamp": 1708458768741,
     "user": {
      "displayName": "Igor Mandarić",
      "userId": "09696522975021983376"
     },
     "user_tz": -60
    },
    "id": "vqGtRUz60DAe"
   },
   "outputs": [],
   "source": [
    "if CHATBOT_FLAG:\n",
    "  qa_chain = ConversationalRetrievalChain.from_llm(chatbot, database.as_retriever(search_kwargs={\"k\": 5}), return_source_documents=True)"
   ]
  },
  {
   "cell_type": "markdown",
   "metadata": {
    "id": "w9Q_WZ7bs1IL"
   },
   "source": [
    "### Pipeline creation"
   ]
  },
  {
   "cell_type": "code",
   "execution_count": 14,
   "metadata": {
    "executionInfo": {
     "elapsed": 404,
     "status": "ok",
     "timestamp": 1708458769097,
     "user": {
      "displayName": "Igor Mandarić",
      "userId": "09696522975021983376"
     },
     "user_tz": -60
    },
    "id": "Z52BAnqXkfX3"
   },
   "outputs": [],
   "source": [
    "if CHATBOT_FLAG:\n",
    "  def translator(prompt, chatbot):\n",
    "    output = replicate.run(\n",
    "      chatbot,\n",
    "      input={\"system_prompt\": \"Prevesti prompt na srpski jezik ako već nije na srpskom i skratiti ga na jednu rečenicu, bez dodatnog teksta.\",\n",
    "              \"prompt\": prompt,\n",
    "              \"max_new_tokens\":500}\n",
    "    )\n",
    "\n",
    "    return convert_to_latin(\"\".join(output).split(\"\\n\")[-1])\n",
    "\n",
    "  def faithfulness_estimation(question, answer, sources, chatbot):\n",
    "    prompt = f\"\"\"\n",
    "      You must return the following fields in your response in two lines, one below the other:\n",
    "      score: Your numerical score for the model's faithfulness based on the rubric\n",
    "      justification: Your reasoning about the model's faithfulness score\n",
    "\n",
    "      You are an impartial judge. You will be given an input that was sent to a machine\n",
    "      learning model, and you will be given an output that the model produced. You\n",
    "      may also be given additional information that was used by the model to generate the output.\n",
    "\n",
    "      Your task is to determine a numerical score called faithfulness based on the input which is question and output which contain answer and sources.\n",
    "      A definition of faithfulness and a grading rubric are provided below.\n",
    "      You must use the grading rubric to determine your score. You must also justify your score.\n",
    "\n",
    "      Examples could be included below for reference. Make sure to use them as references and to\n",
    "      understand them before completing the task.\n",
    "\n",
    "      Input question:\n",
    "      {question}\n",
    "\n",
    "      Output (answer):\n",
    "      {answer}\n",
    "\n",
    "      Output (sources):\n",
    "      {sources}\n",
    "\n",
    "      Metric definition:\n",
    "      Faithfulness is only evaluated with the provided output and provided context, please ignore the provided input entirely when scoring faithfulness. Faithfulness assesses how much of the provided output is factually consistent with the provided context. A higher score indicates that a higher proportion of claims present in the output can be derived from the provided context. Faithfulness does not consider how much extra information from the context is not present in the output.\n",
    "\n",
    "      Grading rubric:\n",
    "      Faithfulness: Below are the details for different scores:\n",
    "      - Score 1: None of the claims in the output can be inferred from the provided context.\n",
    "      - Score 2: Some of the claims in the output can be inferred from the provided context, but the majority of the output is missing from, inconsistent with, or contradictory to the provided context.\n",
    "      - Score 3: Half or more of the claims in the output can be inferred from the provided context.\n",
    "      - Score 4: Most of the claims in the output can be inferred from the provided context, with very little information that is not directly supported by the provided context.\n",
    "      - Score 5: All of the claims in the output are directly supported by the provided context, demonstrating high faithfulness to the provided context.\n",
    "\n",
    "      Examples:\n",
    "\n",
    "      1. example\n",
    "        Example answer:\n",
    "        Cena jednog boda za predmete koji se prenose u narednu godinu dobija se kada se cena skolarine podeli sa 180.\n",
    "\n",
    "        Additional information used by the model (sources):\n",
    "        The university's policy states that the cost per point for subjects carried over is calculated by dividing the total tuition fee by 180.\n",
    "\n",
    "        Example score: 5\n",
    "        Example justification: The output precisely matches the university's documented policy on the cost per point for subjects carried over to the next year.\n",
    "\n",
    "      2. example\n",
    "        Example answer:\n",
    "        Za skolsku 2023/24. godinu, cena boda za predmete koji se prenose u narednu godinu iznosi 37 eura po bodu, dok je najvisa moguca cena za upis 90 eura po bodu, uz mogucnost da se ova cena poveca do maksimuma od 90 eura po bodu u zavisnosti od politike fakulteta.​\n",
    "\n",
    "        Additional information used by the model (sources):\n",
    "        The document specifies a method for calculating the cost per point for carried-over subjects, which does not align with the detailed prices provided in the output.\n",
    "\n",
    "        Example score: 1\n",
    "        Example justification: The output introduces specific cost figures and policies not mentioned in the original document, potentially leading to confusion or misinformation.\n",
    "\n",
    "\n",
    "      You must return the following fields in your response in two lines, one below the other:\n",
    "      score: Your numerical score for the model's faithfulness based on the rubric\n",
    "      justification: Your reasoning about the model's faithfulness score\n",
    "\n",
    "      Do not add additional new lines. Do not add any other fields.\n",
    "    \"\"\"\n",
    "\n",
    "    output = replicate.run(\n",
    "      chatbot,\n",
    "      input={\"system_prompt\": \"Calculate faithfulness score based on prompt and justify it.\",\n",
    "              \"prompt\": prompt,\n",
    "              \"max_new_tokens\":500}\n",
    "    )\n",
    "\n",
    "    joined_output = ''.join(output)\n",
    "    splited_output = joined_output.split(\"\\n\")\n",
    "\n",
    "    score = np.nan\n",
    "    justification = ''\n",
    "\n",
    "    for line in splited_output:\n",
    "        if len(line) > 5:\n",
    "            words = line.split()\n",
    "            words[0] = words[0].strip()\n",
    "            processed_line = ' '.join(words)\n",
    "            if \"score\" in words[0].lower():\n",
    "                try:\n",
    "                    score = eval(words[-1].strip())\n",
    "                except:\n",
    "                    raise ValueError(f\"Score not found in line: {line}\")\n",
    "            elif \"justification\" in words[0].lower():\n",
    "                justification = ' '.join(words[1:])\n",
    "\n",
    "    return score, justification\n",
    "\n",
    "  chat_history = CHAT_HISTORY\n"
   ]
  },
  {
   "cell_type": "markdown",
   "metadata": {
    "id": "jWskvRu_V_4u"
   },
   "source": [
    "### Model testing"
   ]
  },
  {
   "cell_type": "code",
   "execution_count": 16,
   "metadata": {
    "colab": {
     "base_uri": "https://localhost:8080/"
    },
    "executionInfo": {
     "elapsed": 18512,
     "status": "ok",
     "timestamp": 1708458878008,
     "user": {
      "displayName": "Igor Mandarić",
      "userId": "09696522975021983376"
     },
     "user_tz": -60
    },
    "id": "8riJhCd3fBKg",
    "outputId": "7dfcf8a2-d131-4df1-a0e3-55776bd20dc1"
   },
   "outputs": [
    {
     "name": "stdout",
     "output_type": "stream",
     "text": [
      "======================================================================================================================================================\n",
      " 1. question: Do kada traje upis?\n",
      "------------------------------------------------------------------------------------------------------------------------------------------------------\n",
      " raw answer:  Based on the information provided, the enrollment period for undergraduate studies at the Faculty of Technical Sciences in Novi Sad is not explicitly stated. However, we can infer that the enrollment period is approximately one month, as the text mentions that students can apply for studies during the month of June and July. Additionally, the text states that the academic year begins in September, which suggests that the enrollment period is likely to be within those months.\n",
      " faithfulness score: 4\n",
      " faithfulness justification: The output provides accurate and relevant information about the cost of carrying over credits from one academic year to the next, using specific figures and a clear explanation of how the cost is calculated. While some details may be inferred from the context, the output does not introduce any unsupported claims or contradictory information, demonstrating high faithfulness to the provided context.\n",
      " answer translated: Prijemni period za studije na Tehničkom fakultetu u Novom Sadu ne je eksplicitno naznačen, ali se može zaključiti da traje oko meseca jun i jul, jer se u tekstu spominju prijave tokom tih mjeseci. Takođe, tekst pokazuje da akademski godišnjak počinje u septembru, što sugeriše da prijemni period verovatno je u tom periodu.\n",
      " real answer: \"Upis u skolsku 2023/24. godinu potrebno je izvrsiti najkasnije do 6.10.2023. godine.\"\n",
      "======================================================================================================================================================\n"
     ]
    }
   ],
   "source": [
    "if CHATBOT_FLAG:\n",
    "  for i, row in enumerate(qa_df.iterrows()):\n",
    "    question = row[1][\"Pitanje\"]\n",
    "    real_answer = row[1][\"Odgovor\"]\n",
    "    source_document = row[1][\"Dokument\"]\n",
    "\n",
    "    output = qa_chain({\"question\": question, \"chat_history\": chat_history})\n",
    "    answer = output[\"answer\"]\n",
    "    source_documents = output[\"source_documents\"]\n",
    "\n",
    "    faithfulness_score, faithfulness_justification = faithfulness_estimation(question, answer, source_documents, CHATBOT_MODEL)\n",
    "\n",
    "    answer_translated = translator(answer, CHATBOT_MODEL)\n",
    "    chat_history.append((question, answer_translated))\n",
    "\n",
    "    print(DOUBLE_LINE)\n",
    "\n",
    "    print(f\" {i+1}. question: {question}\")\n",
    "    print(LINE)\n",
    "    print(f\" raw answer: {answer}\")\n",
    "    print(f\" faithfulness score: {faithfulness_score}\")\n",
    "    print(f\" faithfulness justification: {faithfulness_justification}\")\n",
    "    print(f\" answer translated: {answer_translated}\")\n",
    "    print(f\" real answer: {real_answer}\")\n",
    "\n",
    "    break\n",
    "\n",
    "  print(DOUBLE_LINE)"
   ]
  }
 ],
 "metadata": {
  "colab": {
   "provenance": []
  },
  "kernelspec": {
   "display_name": "Python 3 (ipykernel)",
   "language": "python",
   "name": "python3"
  },
  "language_info": {
   "codemirror_mode": {
    "name": "ipython",
    "version": 3
   },
   "file_extension": ".py",
   "mimetype": "text/x-python",
   "name": "python",
   "nbconvert_exporter": "python",
   "pygments_lexer": "ipython3",
   "version": "3.11.7"
  }
 },
 "nbformat": 4,
 "nbformat_minor": 4
}
